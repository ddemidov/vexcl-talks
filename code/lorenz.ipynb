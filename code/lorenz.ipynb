{
 "cells": [
  {
   "cell_type": "code",
   "execution_count": null,
   "metadata": {
    "ExecuteTime": {
     "end_time": "2017-04-15T06:45:22.971167Z",
     "start_time": "2017-04-15T09:45:22.652847+03:00"
    }
   },
   "outputs": [],
   "source": [
    "%pylab notebook\n",
    "from mpl_toolkits.mplot3d import Axes3D\n",
    "import pylorenz as lorenz"
   ]
  },
  {
   "cell_type": "code",
   "execution_count": null,
   "metadata": {
    "ExecuteTime": {
     "end_time": "2017-04-15T06:45:23.145321Z",
     "start_time": "2017-04-15T09:45:22.972999+03:00"
    }
   },
   "outputs": [],
   "source": [
    "# See what GPU (if any) is available:\n",
    "lorenz.context()"
   ]
  },
  {
   "cell_type": "code",
   "execution_count": null,
   "metadata": {
    "ExecuteTime": {
     "end_time": "2017-04-15T06:45:23.745366Z",
     "start_time": "2017-04-15T09:45:23.149923+03:00"
    }
   },
   "outputs": [],
   "source": [
    "n = 32   # Number of parameters\n",
    "m = 500  # Length of trajectory\n",
    "\n",
    "# Parameters\n",
    "R = linspace(0.1, 10, n)\n",
    "sigma = 10.0\n",
    "b = 8/3\n",
    "\n",
    "# Initial solution\n",
    "S = empty((m, 3, n))\n",
    "S[0,:,:] = 10.0\n",
    "\n",
    "# Integration\n",
    "ode = lorenz.Stepper(sigma, b, R)\n",
    "for i in range(1,m):\n",
    "    S[i] = ode.advance(S[i-1], 1, 0.01)\n",
    "\n",
    "# Draw the results\n",
    "cmap = get_cmap('plasma')\n",
    "ax = figure(figsize=(8,6)).gca(projection='3d')\n",
    "for i in range(n):\n",
    "    ax.plot(S[:,0,i], S[:,1,i], S[:,2,i], color=cmap(i/n), alpha=0.4)"
   ]
  },
  {
   "cell_type": "code",
   "execution_count": null,
   "metadata": {
    "collapsed": true
   },
   "outputs": [],
   "source": []
  }
 ],
 "metadata": {
  "hide_input": false,
  "kernelspec": {
   "display_name": "Python 3",
   "language": "python",
   "name": "python3"
  },
  "language_info": {
   "codemirror_mode": {
    "name": "ipython",
    "version": 3
   },
   "file_extension": ".py",
   "mimetype": "text/x-python",
   "name": "python",
   "nbconvert_exporter": "python",
   "pygments_lexer": "ipython3",
   "version": "3.6.0"
  }
 },
 "nbformat": 4,
 "nbformat_minor": 2
}
